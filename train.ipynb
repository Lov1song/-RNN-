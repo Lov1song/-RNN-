{
 "cells": [
  {
   "cell_type": "code",
   "execution_count": 1,
   "metadata": {},
   "outputs": [],
   "source": [
    "import torch\n",
    "from torch import nn\n",
    "import dltools\n",
    "\n",
    "batch_size = 64\n",
    "train_iter,test_iter,vocab = dltools.load_data_imdb(batch_size)"
   ]
  },
  {
   "cell_type": "code",
   "execution_count": null,
   "metadata": {},
   "outputs": [],
   "source": [
    "class BiRNN(nn.Module):\n",
    "    def __init__(self,vocab_size,embed_size,num_hiddens,num_layers,**kwargs):\n",
    "        super(BiRNN,self).__init__(**kwargs)\n",
    "        self.embedding = nn.Embedding(vocab_size,embed_size)\n",
    "        self.encoder = nn.LSTM(embed_size,num_hiddens,num_layers=num_layers,bidirectional=True)\n",
    "        self.decoder = nn.Linear(4 * num_hiddens,2)\n",
    "\n",
    "    def forward(self,inputs):\n",
    "        embeddings = self.embedding(inputs,T)\n",
    "        outputs,_ = self.encoder(embeddings)\n",
    "        encoding = torch.cat((outputs[0],outputs[-1]),dim=1)\n",
    "        outs = self.decoder(encoding)\n",
    "        return outs\n",
    "    "
   ]
  },
  {
   "cell_type": "code",
   "execution_count": null,
   "metadata": {},
   "outputs": [],
   "source": [
    "embed_size,num_hiddens,num_layers = 100,100,2\n",
    "device = dltools.try_all_gpus()\n",
    "net = BiRNN(len(vocab),embed_size,num_hiddens,num_layers)\n",
    "\n",
    "def init_weights(m):\n",
    "    if type(m) == nn.Linear:\n",
    "        nn.init.xavier_uniform_(m.weight)\n",
    "    if type(m) == nn.LSTM:\n",
    "        for param in m._flat_weights_names:\n",
    "            if \"weight\" in param:\n",
    "                nn.init.xavier_uniform_(m._parameters[param])\n",
    "net.apply(init_weights)"
   ]
  },
  {
   "cell_type": "code",
   "execution_count": null,
   "metadata": {},
   "outputs": [],
   "source": [
    "glove_embedding = dltools.TokenEmbedding('glove.6b.100d')"
   ]
  },
  {
   "cell_type": "code",
   "execution_count": null,
   "metadata": {},
   "outputs": [],
   "source": [
    "embeds = glove_embedding[vocab.idx_to_token]\n",
    "embeds.shape"
   ]
  },
  {
   "cell_type": "code",
   "execution_count": null,
   "metadata": {},
   "outputs": [],
   "source": [
    "net.embedding.weight.data.copy_(embeds)\n",
    "net.embedding.weight.requires_grad = False"
   ]
  },
  {
   "cell_type": "code",
   "execution_count": null,
   "metadata": {},
   "outputs": [],
   "source": [
    "lr,nums_epochs = 0.01,5\n",
    "trainer = torch.optim.Adam(net.parameters(),lr=lr)\n",
    "loss = nn.CrossEntropyLoss(reduction=\"none\")\n",
    "dltools.train_ch13(net,train_iter,test_iter,loss,trainer,nums_epochs,device)"
   ]
  },
  {
   "cell_type": "code",
   "execution_count": null,
   "metadata": {},
   "outputs": [],
   "source": [
    "def predict_sentimenet(net,vocab,sequence):\n",
    "    sequence = torch.tensor(vocab[sequence.split()],device=device)\n",
    "    label = torch.argmax(net(sequence.reshape(1,-1)),dim=1)\n",
    "    return 'pos' if label == 1 else 'nag'\n"
   ]
  },
  {
   "cell_type": "code",
   "execution_count": null,
   "metadata": {},
   "outputs": [],
   "source": [
    "predict_sentimenet(net,vocab,'This moive is bad')"
   ]
  }
 ],
 "metadata": {
  "kernelspec": {
   "display_name": "pytorch",
   "language": "python",
   "name": "python3"
  },
  "language_info": {
   "codemirror_mode": {
    "name": "ipython",
    "version": 3
   },
   "file_extension": ".py",
   "mimetype": "text/x-python",
   "name": "python",
   "nbconvert_exporter": "python",
   "pygments_lexer": "ipython3",
   "version": "3.9.12"
  }
 },
 "nbformat": 4,
 "nbformat_minor": 2
}
