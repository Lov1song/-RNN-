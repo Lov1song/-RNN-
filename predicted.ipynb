{
 "cells": [
  {
   "cell_type": "code",
   "execution_count": null,
   "metadata": {},
   "outputs": [],
   "source": [
    "import torch\n",
    "from torch import nn\n",
    "import dltools\n",
    "import pickle as pkl\n",
    "\n",
    "batch_size = 64\n",
    "train_iter,test_iter,vocab = dltools.load_data_imdb(batch_size)"
   ]
  },
  {
   "cell_type": "code",
   "execution_count": null,
   "metadata": {},
   "outputs": [],
   "source": [
    "class BiRNN(nn.Module):\n",
    "    def __init__(self,vocab_size,embed_size,num_hiddens,num_layers,**kwargs):\n",
    "        super(BiRNN,self).__init__(**kwargs)\n",
    "        self.embedding = nn.Embedding(vocab_size,embed_size)\n",
    "        self.encoder = nn.LSTM(embed_size,num_hiddens,num_layers=num_layers,bidirectional=True)\n",
    "        self.decoder = nn.Linear(4 * num_hiddens,2)\n",
    "\n",
    "    def forward(self,inputs):\n",
    "        embeddings = self.embedding(inputs,T)\n",
    "        outputs,_ = self.encoder(embeddings)\n",
    "        encoding = torch.cat((outputs[0],outputs[-1]),dim=1)\n",
    "        outs = self.decoder(encoding)\n",
    "        return outs"
   ]
  },
  {
   "cell_type": "code",
   "execution_count": null,
   "metadata": {},
   "outputs": [],
   "source": [
    "embed_size,num_hiddens,num_layers = 100,100,2\n",
    "device = dltools.try_all_gpus()\n",
    "net = BiRNN(len(vocab),embed_size,num_hiddens,num_layers)\n",
    "\n",
    "with open('birnn-01.pkl',\"rb\") as f:\n",
    "    net = pkl.load(f)\n",
    "print(\"load successfully\")"
   ]
  },
  {
   "cell_type": "code",
   "execution_count": null,
   "metadata": {},
   "outputs": [],
   "source": [
    "def predict_sentimenet(net,vocab,sequence):\n",
    "    sequence = torch.tensor(vocab[sequence.split()],device=device)\n",
    "    label = torch.argmax(net(sequence.reshape(1,-1)),dim=1)\n",
    "    return 'pos' if label == 1 else 'nag'"
   ]
  },
  {
   "cell_type": "code",
   "execution_count": null,
   "metadata": {},
   "outputs": [],
   "source": [
    "predict_sentimenet(net,vocab,'This moive is bad')"
   ]
  }
 ],
 "metadata": {
  "language_info": {
   "name": "python"
  }
 },
 "nbformat": 4,
 "nbformat_minor": 2
}
